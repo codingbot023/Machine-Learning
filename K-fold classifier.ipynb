{
 "cells": [
  {
   "cell_type": "code",
   "execution_count": 1,
   "id": "f999b066",
   "metadata": {},
   "outputs": [],
   "source": [
    "from sklearn.model_selection import KFold,StratifiedKFold"
   ]
  },
  {
   "cell_type": "code",
   "execution_count": 2,
   "id": "59d62567",
   "metadata": {},
   "outputs": [],
   "source": [
    "data =[3,6,1,2,3,8,9,0,3,4,6,7,6,7,8,3]"
   ]
  },
  {
   "cell_type": "code",
   "execution_count": 3,
   "id": "70534cd9",
   "metadata": {},
   "outputs": [
    {
     "name": "stdout",
     "output_type": "stream",
     "text": [
      "[ 4  5  6  7  8  9 10 11 12 13 14 15] [0 1 2 3]\n",
      "[ 0  1  2  3  7  8  9 10 11 12 13 14 15] [4 5 6]\n",
      "[ 0  1  2  3  4  5  6 10 11 12 13 14 15] [7 8 9]\n",
      "[ 0  1  2  3  4  5  6  7  8  9 13 14 15] [10 11 12]\n",
      "[ 0  1  2  3  4  5  6  7  8  9 10 11 12] [13 14 15]\n"
     ]
    }
   ],
   "source": [
    "KFold =KFold(n_splits=5)\n",
    "for train,test in KFold.split(data):\n",
    "    print(train,test)\n"
   ]
  },
  {
   "cell_type": "markdown",
   "id": "ca16de1f",
   "metadata": {},
   "source": [
    "## KFold cross validation on dataset"
   ]
  },
  {
   "cell_type": "code",
   "execution_count": 26,
   "id": "2aaca95e",
   "metadata": {},
   "outputs": [],
   "source": [
    "from sklearn.model_selection import train_test_split,cross_val_score\n",
    "from sklearn.datasets import load_digits\n",
    "from sklearn.ensemble import RandomForestClassifier\n",
    "from sklearn.tree import DecisionTreeClassifier\n",
    "from sklearn.neighbors import KNeighborsClassifier\n",
    "import matplotlib.pyplot as plt\n",
    "import pandas as pd"
   ]
  },
  {
   "cell_type": "code",
   "execution_count": 27,
   "id": "a3320410",
   "metadata": {},
   "outputs": [],
   "source": [
    "digits =load_digits()"
   ]
  },
  {
   "cell_type": "code",
   "execution_count": 28,
   "id": "f791e8d4",
   "metadata": {},
   "outputs": [
    {
     "data": {
      "text/plain": [
       "array([[ 0.,  0.,  5., ...,  0.,  0.,  0.],\n",
       "       [ 0.,  0.,  0., ..., 10.,  0.,  0.],\n",
       "       [ 0.,  0.,  0., ..., 16.,  9.,  0.],\n",
       "       ...,\n",
       "       [ 0.,  0.,  1., ...,  6.,  0.,  0.],\n",
       "       [ 0.,  0.,  2., ..., 12.,  0.,  0.],\n",
       "       [ 0.,  0., 10., ..., 12.,  1.,  0.]])"
      ]
     },
     "execution_count": 28,
     "metadata": {},
     "output_type": "execute_result"
    }
   ],
   "source": [
    "digits.data"
   ]
  },
  {
   "cell_type": "code",
   "execution_count": 29,
   "id": "f4582021",
   "metadata": {},
   "outputs": [
    {
     "data": {
      "text/plain": [
       "array([0, 1, 2, ..., 8, 9, 8])"
      ]
     },
     "execution_count": 29,
     "metadata": {},
     "output_type": "execute_result"
    }
   ],
   "source": [
    "digits.target"
   ]
  },
  {
   "cell_type": "code",
   "execution_count": 30,
   "id": "6b222e83",
   "metadata": {},
   "outputs": [
    {
     "data": {
      "text/plain": [
       "<matplotlib.image.AxesImage at 0x1a7ff535280>"
      ]
     },
     "execution_count": 30,
     "metadata": {},
     "output_type": "execute_result"
    },
    {
     "data": {
      "image/png": "[encoded data removed]",
      "text/plain": [
       "<Figure size 432x288 with 1 Axes>"
      ]
     },
     "metadata": {
      "needs_background": "light"
     },
     "output_type": "display_data"
    }
   ],
   "source": [
    "plt.imshow(digits.images[100]) #inshow is image show"
   ]
  },
  {
   "cell_type": "code",
   "execution_count": 31,
   "id": "1a3b90c0",
   "metadata": {},
   "outputs": [],
   "source": [
    "# digits.target(0)"
   ]
  },
  {
   "cell_type": "code",
   "execution_count": 32,
   "id": "908e9bac",
   "metadata": {},
   "outputs": [],
   "source": [
    "x =digits.data\n",
    "y=digits.target"
   ]
  },
  {
   "cell_type": "code",
   "execution_count": 33,
   "id": "568ca99a",
   "metadata": {},
   "outputs": [],
   "source": [
    "x_train,x_test,y_train,y_test=train_test_split(x,y,test_size=0.2,random_state=123)"
   ]
  },
  {
   "cell_type": "code",
   "execution_count": 34,
   "id": "822ae69c",
   "metadata": {},
   "outputs": [],
   "source": [
    "rf=RandomForestClassifier(random_state=12)\n",
    "rf.fit(x_train,y_train)\n",
    "rf_score =rf.score(x_test,y_test)\n",
    "\n",
    "dt =DecisionTreeClassifier()\n",
    "dt.fit(x_train,y_train)\n",
    "dt_score =dt.score(x_test,y_test)\n",
    "\n",
    "kn=KNeighborsClassifier()\n",
    "kn.fit(x_train,y_train)\n",
    "kn_score=kn.score(x_test,y_test)"
   ]
  },
  {
   "cell_type": "markdown",
   "id": "3b53d28e",
   "metadata": {},
   "source": [
    "### models with KFold"
   ]
  },
  {
   "cell_type": "code",
   "execution_count": 35,
   "id": "441958e7",
   "metadata": {},
   "outputs": [],
   "source": [
    "kfold_rf_score = cross_val_score(RandomForestClassifier(random_state=12),\n",
    "                                X=digits.data,y=digits.target,cv=3)\n",
    "kfold_dt_score = cross_val_score(DecisionTreeClassifier(),\n",
    "                                X=digits.data,y=digits.target,cv=3)\n",
    "kfold_kn_score = cross_val_score(KNeighborsClassifier(n_neighbors=12),\n",
    "                                X=digits.data,y=digits.target,cv=3)"
   ]
  },
  {
   "cell_type": "code",
   "execution_count": 36,
   "id": "ecd0abc0",
   "metadata": {},
   "outputs": [],
   "source": [
    "kfold_rf_score = kfold_rf_score.mean()\n",
    "kfold_dt_score = kfold_dt_score.mean()\n",
    "kfold_kn_score = kfold_kn_score.mean()"
   ]
  },
  {
   "cell_type": "code",
   "execution_count": 37,
   "id": "31c60828",
   "metadata": {},
   "outputs": [
    {
     "data": {
      "text/html": [
       "<div>\n",
       "<style scoped>\n",
       "    .dataframe tbody tr th:only-of-type {\n",
       "        vertical-align: middle;\n",
       "    }\n",
       "\n",
       "    .dataframe tbody tr th {\n",
       "        vertical-align: top;\n",
       "    }\n",
       "\n",
       "    .dataframe thead th {\n",
       "        text-align: right;\n",
       "    }\n",
       "</style>\n",
       "<table border=\"1\" class=\"dataframe\">\n",
       "  <thead>\n",
       "    <tr style=\"text-align: right;\">\n",
       "      <th></th>\n",
       "      <th>Model</th>\n",
       "      <th>Scores without Kfold</th>\n",
       "      <th>Scores with kfold</th>\n",
       "    </tr>\n",
       "  </thead>\n",
       "  <tbody>\n",
       "    <tr>\n",
       "      <th>0</th>\n",
       "      <td>Random forest</td>\n",
       "      <td>0.975000</td>\n",
       "      <td>0.944352</td>\n",
       "    </tr>\n",
       "    <tr>\n",
       "      <th>1</th>\n",
       "      <td>Decision Tree</td>\n",
       "      <td>0.816667</td>\n",
       "      <td>0.788536</td>\n",
       "    </tr>\n",
       "    <tr>\n",
       "      <th>2</th>\n",
       "      <td>KNeighbors</td>\n",
       "      <td>0.980556</td>\n",
       "      <td>0.953812</td>\n",
       "    </tr>\n",
       "  </tbody>\n",
       "</table>\n",
       "</div>"
      ],
      "text/plain": [
       "           Model  Scores without Kfold  Scores with kfold\n",
       "0  Random forest              0.975000           0.944352\n",
       "1  Decision Tree              0.816667           0.788536\n",
       "2     KNeighbors              0.980556           0.953812"
      ]
     },
     "execution_count": 37,
     "metadata": {},
     "output_type": "execute_result"
    }
   ],
   "source": [
    "pd.DataFrame({'Model':['Random forest','Decision Tree','KNeighbors'],\n",
    "             'Scores without Kfold':[rf_score,dt_score,kn_score],\n",
    "             \"Scores with kfold\":[kfold_rf_score,kfold_dt_score,kfold_kn_score]})"
   ]
  },
  {
   "cell_type": "code",
   "execution_count": null,
   "id": "97874fd5",
   "metadata": {},
   "outputs": [],
   "source": []
  }
 ],
 "metadata": {
  "kernelspec": {
   "display_name": "Python 3 (ipykernel)",
   "language": "python",
   "name": "python3"
  },
  "language_info": {
   "codemirror_mode": {
    "name": "ipython",
    "version": 3
   },
   "file_extension": ".py",
   "mimetype": "text/x-python",
   "name": "python",
   "nbconvert_exporter": "python",
   "pygments_lexer": "ipython3",
   "version": "3.9.7"
  }
 },
 "nbformat": 4,
 "nbformat_minor": 5
}
