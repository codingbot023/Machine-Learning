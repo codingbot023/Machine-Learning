{
 "cells": [
  {
   "cell_type": "code",
   "execution_count": 1,
   "id": "fec747ca",
   "metadata": {},
   "outputs": [],
   "source": [
    "import pandas as pd\n",
    "import matplotlib.pyplot as plt\n",
    "import seaborn as sns\n",
    "\n",
    "from sklearn.model_selection import train_test_split\n",
    "from sklearn.preprocessing import LabelEncoder,MinMaxScaler,StandardScaler\n",
    "from sklearn.metrics import mean_absolute_error,mean_squared_error\n",
    "from sklearn.linear_model import LinearRegression\n",
    "from sklearn.impute import SimpleImputer"
   ]
  },
  {
   "cell_type": "code",
   "execution_count": 2,
   "id": "a9024ce3",
   "metadata": {},
   "outputs": [
    {
     "data": {
      "text/html": [
       "<div>\n",
       "<style scoped>\n",
       "    .dataframe tbody tr th:only-of-type {\n",
       "        vertical-align: middle;\n",
       "    }\n",
       "\n",
       "    .dataframe tbody tr th {\n",
       "        vertical-align: top;\n",
       "    }\n",
       "\n",
       "    .dataframe thead th {\n",
       "        text-align: right;\n",
       "    }\n",
       "</style>\n",
       "<table border=\"1\" class=\"dataframe\">\n",
       "  <thead>\n",
       "    <tr style=\"text-align: right;\">\n",
       "      <th></th>\n",
       "      <th>Zip Code</th>\n",
       "      <th>Price</th>\n",
       "      <th>Beds</th>\n",
       "      <th>Baths</th>\n",
       "      <th>Living Space</th>\n",
       "      <th>Address</th>\n",
       "      <th>City</th>\n",
       "      <th>State</th>\n",
       "      <th>Zip Code Population</th>\n",
       "      <th>Zip Code Density</th>\n",
       "      <th>County</th>\n",
       "      <th>Median Household Income</th>\n",
       "      <th>Latitude</th>\n",
       "      <th>Longitude</th>\n",
       "    </tr>\n",
       "  </thead>\n",
       "  <tbody>\n",
       "    <tr>\n",
       "      <th>0</th>\n",
       "      <td>10013</td>\n",
       "      <td>3999000.0</td>\n",
       "      <td>2</td>\n",
       "      <td>3</td>\n",
       "      <td>1967</td>\n",
       "      <td>74 GRAND ST APT 3</td>\n",
       "      <td>New York</td>\n",
       "      <td>New York</td>\n",
       "      <td>29563</td>\n",
       "      <td>20967.9</td>\n",
       "      <td>New York</td>\n",
       "      <td>370046.0</td>\n",
       "      <td>40.72001</td>\n",
       "      <td>-74.00472</td>\n",
       "    </tr>\n",
       "    <tr>\n",
       "      <th>1</th>\n",
       "      <td>10013</td>\n",
       "      <td>3999000.0</td>\n",
       "      <td>2</td>\n",
       "      <td>3</td>\n",
       "      <td>1967</td>\n",
       "      <td>74 GRAND ST APT 3</td>\n",
       "      <td>New York</td>\n",
       "      <td>New York</td>\n",
       "      <td>29563</td>\n",
       "      <td>20967.9</td>\n",
       "      <td>New York</td>\n",
       "      <td>370046.0</td>\n",
       "      <td>40.72001</td>\n",
       "      <td>-74.00472</td>\n",
       "    </tr>\n",
       "    <tr>\n",
       "      <th>2</th>\n",
       "      <td>10014</td>\n",
       "      <td>1650000.0</td>\n",
       "      <td>1</td>\n",
       "      <td>1</td>\n",
       "      <td>718</td>\n",
       "      <td>140 CHARLES ST APT 4D</td>\n",
       "      <td>New York</td>\n",
       "      <td>New York</td>\n",
       "      <td>29815</td>\n",
       "      <td>23740.9</td>\n",
       "      <td>New York</td>\n",
       "      <td>249880.0</td>\n",
       "      <td>40.73407</td>\n",
       "      <td>-74.00601</td>\n",
       "    </tr>\n",
       "    <tr>\n",
       "      <th>3</th>\n",
       "      <td>10014</td>\n",
       "      <td>760000.0</td>\n",
       "      <td>3</td>\n",
       "      <td>2</td>\n",
       "      <td>1538</td>\n",
       "      <td>38 JONES ST</td>\n",
       "      <td>New York</td>\n",
       "      <td>New York</td>\n",
       "      <td>29815</td>\n",
       "      <td>23740.9</td>\n",
       "      <td>New York</td>\n",
       "      <td>249880.0</td>\n",
       "      <td>40.73407</td>\n",
       "      <td>-74.00601</td>\n",
       "    </tr>\n",
       "    <tr>\n",
       "      <th>4</th>\n",
       "      <td>10014</td>\n",
       "      <td>1100000.0</td>\n",
       "      <td>1</td>\n",
       "      <td>1</td>\n",
       "      <td>600</td>\n",
       "      <td>81 BEDFORD ST APT 3F</td>\n",
       "      <td>New York</td>\n",
       "      <td>New York</td>\n",
       "      <td>29815</td>\n",
       "      <td>23740.9</td>\n",
       "      <td>New York</td>\n",
       "      <td>249880.0</td>\n",
       "      <td>40.73407</td>\n",
       "      <td>-74.00601</td>\n",
       "    </tr>\n",
       "    <tr>\n",
       "      <th>...</th>\n",
       "      <td>...</td>\n",
       "      <td>...</td>\n",
       "      <td>...</td>\n",
       "      <td>...</td>\n",
       "      <td>...</td>\n",
       "      <td>...</td>\n",
       "      <td>...</td>\n",
       "      <td>...</td>\n",
       "      <td>...</td>\n",
       "      <td>...</td>\n",
       "      <td>...</td>\n",
       "      <td>...</td>\n",
       "      <td>...</td>\n",
       "      <td>...</td>\n",
       "    </tr>\n",
       "    <tr>\n",
       "      <th>39976</th>\n",
       "      <td>98199</td>\n",
       "      <td>2495000.0</td>\n",
       "      <td>4</td>\n",
       "      <td>4</td>\n",
       "      <td>3380</td>\n",
       "      <td>2626 27TH AVE W</td>\n",
       "      <td>Seattle</td>\n",
       "      <td>Washington</td>\n",
       "      <td>22890</td>\n",
       "      <td>2086.8</td>\n",
       "      <td>King</td>\n",
       "      <td>205611.0</td>\n",
       "      <td>47.65139</td>\n",
       "      <td>-122.40223</td>\n",
       "    </tr>\n",
       "    <tr>\n",
       "      <th>39977</th>\n",
       "      <td>98199</td>\n",
       "      <td>2295000.0</td>\n",
       "      <td>4</td>\n",
       "      <td>4</td>\n",
       "      <td>2878</td>\n",
       "      <td>3215 32ND AVE W</td>\n",
       "      <td>Seattle</td>\n",
       "      <td>Washington</td>\n",
       "      <td>22890</td>\n",
       "      <td>2086.8</td>\n",
       "      <td>King</td>\n",
       "      <td>205611.0</td>\n",
       "      <td>47.65139</td>\n",
       "      <td>-122.40223</td>\n",
       "    </tr>\n",
       "    <tr>\n",
       "      <th>39978</th>\n",
       "      <td>98199</td>\n",
       "      <td>950000.0</td>\n",
       "      <td>3</td>\n",
       "      <td>2</td>\n",
       "      <td>1380</td>\n",
       "      <td>3257 22ND AVE W</td>\n",
       "      <td>Seattle</td>\n",
       "      <td>Washington</td>\n",
       "      <td>22890</td>\n",
       "      <td>2086.8</td>\n",
       "      <td>King</td>\n",
       "      <td>205611.0</td>\n",
       "      <td>47.65139</td>\n",
       "      <td>-122.40223</td>\n",
       "    </tr>\n",
       "    <tr>\n",
       "      <th>39979</th>\n",
       "      <td>98199</td>\n",
       "      <td>425000.0</td>\n",
       "      <td>2</td>\n",
       "      <td>1</td>\n",
       "      <td>856</td>\n",
       "      <td>3711 26TH PL W APT 102</td>\n",
       "      <td>Seattle</td>\n",
       "      <td>Washington</td>\n",
       "      <td>22890</td>\n",
       "      <td>2086.8</td>\n",
       "      <td>King</td>\n",
       "      <td>205611.0</td>\n",
       "      <td>47.65139</td>\n",
       "      <td>-122.40223</td>\n",
       "    </tr>\n",
       "    <tr>\n",
       "      <th>39980</th>\n",
       "      <td>98199</td>\n",
       "      <td>1150000.0</td>\n",
       "      <td>3</td>\n",
       "      <td>3</td>\n",
       "      <td>2840</td>\n",
       "      <td>2911 25TH AVE W</td>\n",
       "      <td>Seattle</td>\n",
       "      <td>Washington</td>\n",
       "      <td>22890</td>\n",
       "      <td>2086.8</td>\n",
       "      <td>King</td>\n",
       "      <td>205611.0</td>\n",
       "      <td>47.65139</td>\n",
       "      <td>-122.40223</td>\n",
       "    </tr>\n",
       "  </tbody>\n",
       "</table>\n",
       "<p>39981 rows × 14 columns</p>\n",
       "</div>"
      ],
      "text/plain": [
       "       Zip Code      Price  Beds  Baths  Living Space                 Address  \\\n",
       "0         10013  3999000.0     2      3          1967       74 GRAND ST APT 3   \n",
       "1         10013  3999000.0     2      3          1967       74 GRAND ST APT 3   \n",
       "2         10014  1650000.0     1      1           718   140 CHARLES ST APT 4D   \n",
       "3         10014   760000.0     3      2          1538             38 JONES ST   \n",
       "4         10014  1100000.0     1      1           600    81 BEDFORD ST APT 3F   \n",
       "...         ...        ...   ...    ...           ...                     ...   \n",
       "39976     98199  2495000.0     4      4          3380         2626 27TH AVE W   \n",
       "39977     98199  2295000.0     4      4          2878         3215 32ND AVE W   \n",
       "39978     98199   950000.0     3      2          1380         3257 22ND AVE W   \n",
       "39979     98199   425000.0     2      1           856  3711 26TH PL W APT 102   \n",
       "39980     98199  1150000.0     3      3          2840         2911 25TH AVE W   \n",
       "\n",
       "           City       State  Zip Code Population  Zip Code Density    County  \\\n",
       "0      New York    New York                29563           20967.9  New York   \n",
       "1      New York    New York                29563           20967.9  New York   \n",
       "2      New York    New York                29815           23740.9  New York   \n",
       "3      New York    New York                29815           23740.9  New York   \n",
       "4      New York    New York                29815           23740.9  New York   \n",
       "...         ...         ...                  ...               ...       ...   \n",
       "39976   Seattle  Washington                22890            2086.8      King   \n",
       "39977   Seattle  Washington                22890            2086.8      King   \n",
       "39978   Seattle  Washington                22890            2086.8      King   \n",
       "39979   Seattle  Washington                22890            2086.8      King   \n",
       "39980   Seattle  Washington                22890            2086.8      King   \n",
       "\n",
       "       Median Household Income  Latitude  Longitude  \n",
       "0                     370046.0  40.72001  -74.00472  \n",
       "1                     370046.0  40.72001  -74.00472  \n",
       "2                     249880.0  40.73407  -74.00601  \n",
       "3                     249880.0  40.73407  -74.00601  \n",
       "4                     249880.0  40.73407  -74.00601  \n",
       "...                        ...       ...        ...  \n",
       "39976                 205611.0  47.65139 -122.40223  \n",
       "39977                 205611.0  47.65139 -122.40223  \n",
       "39978                 205611.0  47.65139 -122.40223  \n",
       "39979                 205611.0  47.65139 -122.40223  \n",
       "39980                 205611.0  47.65139 -122.40223  \n",
       "\n",
       "[39981 rows x 14 columns]"
      ]
     },
     "execution_count": 2,
     "metadata": {},
     "output_type": "execute_result"
    }
   ],
   "source": [
    "data = pd.read_csv('American_Housing_Data_20231209.csv')\n",
    "data"
   ]
  },
  {
   "cell_type": "code",
   "execution_count": 3,
   "id": "c3ac6ec0",
   "metadata": {},
   "outputs": [
    {
     "data": {
      "text/plain": [
       "Index(['Zip Code', 'Price', 'Beds', 'Baths', 'Living Space', 'Address', 'City',\n",
       "       'State', 'Zip Code Population', 'Zip Code Density', 'County',\n",
       "       'Median Household Income', 'Latitude', 'Longitude'],\n",
       "      dtype='object')"
      ]
     },
     "execution_count": 3,
     "metadata": {},
     "output_type": "execute_result"
    }
   ],
   "source": [
    "data.columns"
   ]
  },
  {
   "cell_type": "code",
   "execution_count": 4,
   "id": "27503285",
   "metadata": {},
   "outputs": [
    {
     "data": {
      "text/plain": [
       "Zip Code                     int64\n",
       "Price                      float64\n",
       "Beds                         int64\n",
       "Baths                        int64\n",
       "Living Space                 int64\n",
       "Address                     object\n",
       "City                        object\n",
       "State                       object\n",
       "Zip Code Population          int64\n",
       "Zip Code Density           float64\n",
       "County                      object\n",
       "Median Household Income    float64\n",
       "Latitude                   float64\n",
       "Longitude                  float64\n",
       "dtype: object"
      ]
     },
     "execution_count": 4,
     "metadata": {},
     "output_type": "execute_result"
    }
   ],
   "source": [
    "data.dtypes"
   ]
  },
  {
   "cell_type": "code",
   "execution_count": 5,
   "id": "49905017",
   "metadata": {},
   "outputs": [
    {
     "data": {
      "text/html": [
       "<div>\n",
       "<style scoped>\n",
       "    .dataframe tbody tr th:only-of-type {\n",
       "        vertical-align: middle;\n",
       "    }\n",
       "\n",
       "    .dataframe tbody tr th {\n",
       "        vertical-align: top;\n",
       "    }\n",
       "\n",
       "    .dataframe thead th {\n",
       "        text-align: right;\n",
       "    }\n",
       "</style>\n",
       "<table border=\"1\" class=\"dataframe\">\n",
       "  <thead>\n",
       "    <tr style=\"text-align: right;\">\n",
       "      <th></th>\n",
       "      <th>Zip Code</th>\n",
       "      <th>Price</th>\n",
       "      <th>Beds</th>\n",
       "      <th>Baths</th>\n",
       "      <th>Living Space</th>\n",
       "      <th>City</th>\n",
       "      <th>State</th>\n",
       "      <th>Zip Code Population</th>\n",
       "      <th>Zip Code Density</th>\n",
       "      <th>County</th>\n",
       "      <th>Median Household Income</th>\n",
       "    </tr>\n",
       "  </thead>\n",
       "  <tbody>\n",
       "    <tr>\n",
       "      <th>0</th>\n",
       "      <td>10013</td>\n",
       "      <td>3999000.0</td>\n",
       "      <td>2</td>\n",
       "      <td>3</td>\n",
       "      <td>1967</td>\n",
       "      <td>New York</td>\n",
       "      <td>New York</td>\n",
       "      <td>29563</td>\n",
       "      <td>20967.9</td>\n",
       "      <td>New York</td>\n",
       "      <td>370046.0</td>\n",
       "    </tr>\n",
       "    <tr>\n",
       "      <th>1</th>\n",
       "      <td>10013</td>\n",
       "      <td>3999000.0</td>\n",
       "      <td>2</td>\n",
       "      <td>3</td>\n",
       "      <td>1967</td>\n",
       "      <td>New York</td>\n",
       "      <td>New York</td>\n",
       "      <td>29563</td>\n",
       "      <td>20967.9</td>\n",
       "      <td>New York</td>\n",
       "      <td>370046.0</td>\n",
       "    </tr>\n",
       "    <tr>\n",
       "      <th>2</th>\n",
       "      <td>10014</td>\n",
       "      <td>1650000.0</td>\n",
       "      <td>1</td>\n",
       "      <td>1</td>\n",
       "      <td>718</td>\n",
       "      <td>New York</td>\n",
       "      <td>New York</td>\n",
       "      <td>29815</td>\n",
       "      <td>23740.9</td>\n",
       "      <td>New York</td>\n",
       "      <td>249880.0</td>\n",
       "    </tr>\n",
       "    <tr>\n",
       "      <th>3</th>\n",
       "      <td>10014</td>\n",
       "      <td>760000.0</td>\n",
       "      <td>3</td>\n",
       "      <td>2</td>\n",
       "      <td>1538</td>\n",
       "      <td>New York</td>\n",
       "      <td>New York</td>\n",
       "      <td>29815</td>\n",
       "      <td>23740.9</td>\n",
       "      <td>New York</td>\n",
       "      <td>249880.0</td>\n",
       "    </tr>\n",
       "    <tr>\n",
       "      <th>4</th>\n",
       "      <td>10014</td>\n",
       "      <td>1100000.0</td>\n",
       "      <td>1</td>\n",
       "      <td>1</td>\n",
       "      <td>600</td>\n",
       "      <td>New York</td>\n",
       "      <td>New York</td>\n",
       "      <td>29815</td>\n",
       "      <td>23740.9</td>\n",
       "      <td>New York</td>\n",
       "      <td>249880.0</td>\n",
       "    </tr>\n",
       "    <tr>\n",
       "      <th>...</th>\n",
       "      <td>...</td>\n",
       "      <td>...</td>\n",
       "      <td>...</td>\n",
       "      <td>...</td>\n",
       "      <td>...</td>\n",
       "      <td>...</td>\n",
       "      <td>...</td>\n",
       "      <td>...</td>\n",
       "      <td>...</td>\n",
       "      <td>...</td>\n",
       "      <td>...</td>\n",
       "    </tr>\n",
       "    <tr>\n",
       "      <th>39976</th>\n",
       "      <td>98199</td>\n",
       "      <td>2495000.0</td>\n",
       "      <td>4</td>\n",
       "      <td>4</td>\n",
       "      <td>3380</td>\n",
       "      <td>Seattle</td>\n",
       "      <td>Washington</td>\n",
       "      <td>22890</td>\n",
       "      <td>2086.8</td>\n",
       "      <td>King</td>\n",
       "      <td>205611.0</td>\n",
       "    </tr>\n",
       "    <tr>\n",
       "      <th>39977</th>\n",
       "      <td>98199</td>\n",
       "      <td>2295000.0</td>\n",
       "      <td>4</td>\n",
       "      <td>4</td>\n",
       "      <td>2878</td>\n",
       "      <td>Seattle</td>\n",
       "      <td>Washington</td>\n",
       "      <td>22890</td>\n",
       "      <td>2086.8</td>\n",
       "      <td>King</td>\n",
       "      <td>205611.0</td>\n",
       "    </tr>\n",
       "    <tr>\n",
       "      <th>39978</th>\n",
       "      <td>98199</td>\n",
       "      <td>950000.0</td>\n",
       "      <td>3</td>\n",
       "      <td>2</td>\n",
       "      <td>1380</td>\n",
       "      <td>Seattle</td>\n",
       "      <td>Washington</td>\n",
       "      <td>22890</td>\n",
       "      <td>2086.8</td>\n",
       "      <td>King</td>\n",
       "      <td>205611.0</td>\n",
       "    </tr>\n",
       "    <tr>\n",
       "      <th>39979</th>\n",
       "      <td>98199</td>\n",
       "      <td>425000.0</td>\n",
       "      <td>2</td>\n",
       "      <td>1</td>\n",
       "      <td>856</td>\n",
       "      <td>Seattle</td>\n",
       "      <td>Washington</td>\n",
       "      <td>22890</td>\n",
       "      <td>2086.8</td>\n",
       "      <td>King</td>\n",
       "      <td>205611.0</td>\n",
       "    </tr>\n",
       "    <tr>\n",
       "      <th>39980</th>\n",
       "      <td>98199</td>\n",
       "      <td>1150000.0</td>\n",
       "      <td>3</td>\n",
       "      <td>3</td>\n",
       "      <td>2840</td>\n",
       "      <td>Seattle</td>\n",
       "      <td>Washington</td>\n",
       "      <td>22890</td>\n",
       "      <td>2086.8</td>\n",
       "      <td>King</td>\n",
       "      <td>205611.0</td>\n",
       "    </tr>\n",
       "  </tbody>\n",
       "</table>\n",
       "<p>39981 rows × 11 columns</p>\n",
       "</div>"
      ],
      "text/plain": [
       "       Zip Code      Price  Beds  Baths  Living Space      City       State  \\\n",
       "0         10013  3999000.0     2      3          1967  New York    New York   \n",
       "1         10013  3999000.0     2      3          1967  New York    New York   \n",
       "2         10014  1650000.0     1      1           718  New York    New York   \n",
       "3         10014   760000.0     3      2          1538  New York    New York   \n",
       "4         10014  1100000.0     1      1           600  New York    New York   \n",
       "...         ...        ...   ...    ...           ...       ...         ...   \n",
       "39976     98199  2495000.0     4      4          3380   Seattle  Washington   \n",
       "39977     98199  2295000.0     4      4          2878   Seattle  Washington   \n",
       "39978     98199   950000.0     3      2          1380   Seattle  Washington   \n",
       "39979     98199   425000.0     2      1           856   Seattle  Washington   \n",
       "39980     98199  1150000.0     3      3          2840   Seattle  Washington   \n",
       "\n",
       "       Zip Code Population  Zip Code Density    County  \\\n",
       "0                    29563           20967.9  New York   \n",
       "1                    29563           20967.9  New York   \n",
       "2                    29815           23740.9  New York   \n",
       "3                    29815           23740.9  New York   \n",
       "4                    29815           23740.9  New York   \n",
       "...                    ...               ...       ...   \n",
       "39976                22890            2086.8      King   \n",
       "39977                22890            2086.8      King   \n",
       "39978                22890            2086.8      King   \n",
       "39979                22890            2086.8      King   \n",
       "39980                22890            2086.8      King   \n",
       "\n",
       "       Median Household Income  \n",
       "0                     370046.0  \n",
       "1                     370046.0  \n",
       "2                     249880.0  \n",
       "3                     249880.0  \n",
       "4                     249880.0  \n",
       "...                        ...  \n",
       "39976                 205611.0  \n",
       "39977                 205611.0  \n",
       "39978                 205611.0  \n",
       "39979                 205611.0  \n",
       "39980                 205611.0  \n",
       "\n",
       "[39981 rows x 11 columns]"
      ]
     },
     "execution_count": 5,
     "metadata": {},
     "output_type": "execute_result"
    }
   ],
   "source": [
    "data = data.drop(['Address','Latitude','Longitude'], axis=1)   #removing multiple columns\n",
    "data"
   ]
  },
  {
   "cell_type": "code",
   "execution_count": 6,
   "id": "2b8b16b2",
   "metadata": {},
   "outputs": [
    {
     "data": {
      "text/plain": [
       "Zip Code                   0\n",
       "Price                      0\n",
       "Beds                       0\n",
       "Baths                      0\n",
       "Living Space               0\n",
       "City                       0\n",
       "State                      0\n",
       "Zip Code Population        0\n",
       "Zip Code Density           0\n",
       "County                     0\n",
       "Median Household Income    2\n",
       "dtype: int64"
      ]
     },
     "execution_count": 6,
     "metadata": {},
     "output_type": "execute_result"
    }
   ],
   "source": [
    "data.isnull().sum()"
   ]
  },
  {
   "cell_type": "code",
   "execution_count": 7,
   "id": "84620964",
   "metadata": {},
   "outputs": [],
   "source": [
    "imputer = SimpleImputer(strategy =\"most_frequent\")\n",
    "data[\"Median Household Income\"]=imputer.fit_transform(data[['Median Household Income']])\n"
   ]
  },
  {
   "cell_type": "code",
   "execution_count": 8,
   "id": "0bac94d9",
   "metadata": {},
   "outputs": [
    {
     "data": {
      "text/plain": [
       "Zip Code                   0\n",
       "Price                      0\n",
       "Beds                       0\n",
       "Baths                      0\n",
       "Living Space               0\n",
       "City                       0\n",
       "State                      0\n",
       "Zip Code Population        0\n",
       "Zip Code Density           0\n",
       "County                     0\n",
       "Median Household Income    0\n",
       "dtype: int64"
      ]
     },
     "execution_count": 8,
     "metadata": {},
     "output_type": "execute_result"
    }
   ],
   "source": [
    "data.isnull().sum()"
   ]
  },
  {
   "cell_type": "code",
   "execution_count": 9,
   "id": "023e34e6",
   "metadata": {},
   "outputs": [],
   "source": [
    "city =LabelEncoder()\n",
    "data['City']=city.fit_transform(data[\"City\"])\n",
    "state =LabelEncoder()\n",
    "data['State']=state.fit_transform(data['State'])\n",
    "country=LabelEncoder()\n",
    "data['County']=country.fit_transform(data['County'])"
   ]
  },
  {
   "cell_type": "code",
   "execution_count": 10,
   "id": "3d957cf2",
   "metadata": {},
   "outputs": [
    {
     "data": {
      "text/plain": [
       "{'whiskers': [<matplotlib.lines.Line2D at 0x2396c40d3a0>,\n",
       "  <matplotlib.lines.Line2D at 0x2396c40d670>],\n",
       " 'caps': [<matplotlib.lines.Line2D at 0x2396c40da00>,\n",
       "  <matplotlib.lines.Line2D at 0x2396c40dd90>],\n",
       " 'boxes': [<matplotlib.patches.PathPatch at 0x2396c40d040>],\n",
       " 'medians': [<matplotlib.lines.Line2D at 0x2396c41c160>],\n",
       " 'fliers': [<matplotlib.lines.Line2D at 0x2396c41c4f0>],\n",
       " 'means': []}"
      ]
     },
     "execution_count": 10,
     "metadata": {},
     "output_type": "execute_result"
    },
    {
     "data": {
      "image/png": "[encoded data removed]",
      "text/plain": [
       "<Figure size 432x288 with 1 Axes>"
      ]
     },
     "metadata": {
      "needs_background": "light"
     },
     "output_type": "display_data"
    }
   ],
   "source": [
    "plt.boxplot(data[\"Median Household Income\"],patch_artist=True)"
   ]
  },
  {
   "cell_type": "code",
   "execution_count": 11,
   "id": "d263e228",
   "metadata": {},
   "outputs": [
    {
     "data": {
      "text/html": [
       "<div>\n",
       "<style scoped>\n",
       "    .dataframe tbody tr th:only-of-type {\n",
       "        vertical-align: middle;\n",
       "    }\n",
       "\n",
       "    .dataframe tbody tr th {\n",
       "        vertical-align: top;\n",
       "    }\n",
       "\n",
       "    .dataframe thead th {\n",
       "        text-align: right;\n",
       "    }\n",
       "</style>\n",
       "<table border=\"1\" class=\"dataframe\">\n",
       "  <thead>\n",
       "    <tr style=\"text-align: right;\">\n",
       "      <th></th>\n",
       "      <th>Zip Code</th>\n",
       "      <th>Price</th>\n",
       "      <th>Beds</th>\n",
       "      <th>Baths</th>\n",
       "      <th>Living Space</th>\n",
       "      <th>City</th>\n",
       "      <th>State</th>\n",
       "      <th>Zip Code Population</th>\n",
       "      <th>Zip Code Density</th>\n",
       "      <th>County</th>\n",
       "      <th>Median Household Income</th>\n",
       "    </tr>\n",
       "  </thead>\n",
       "  <tbody>\n",
       "    <tr>\n",
       "      <th>Zip Code</th>\n",
       "      <td>1.000000</td>\n",
       "      <td>0.110929</td>\n",
       "      <td>0.014740</td>\n",
       "      <td>0.004543</td>\n",
       "      <td>0.032537</td>\n",
       "      <td>0.084340</td>\n",
       "      <td>-0.210228</td>\n",
       "      <td>-0.024488</td>\n",
       "      <td>-0.105494</td>\n",
       "      <td>-0.038689</td>\n",
       "      <td>0.148384</td>\n",
       "    </tr>\n",
       "    <tr>\n",
       "      <th>Price</th>\n",
       "      <td>0.110929</td>\n",
       "      <td>1.000000</td>\n",
       "      <td>0.277072</td>\n",
       "      <td>0.462072</td>\n",
       "      <td>0.520565</td>\n",
       "      <td>0.080209</td>\n",
       "      <td>-0.149707</td>\n",
       "      <td>-0.042924</td>\n",
       "      <td>0.152544</td>\n",
       "      <td>0.030848</td>\n",
       "      <td>0.416784</td>\n",
       "    </tr>\n",
       "    <tr>\n",
       "      <th>Beds</th>\n",
       "      <td>0.014740</td>\n",
       "      <td>0.277072</td>\n",
       "      <td>1.000000</td>\n",
       "      <td>0.703425</td>\n",
       "      <td>0.655098</td>\n",
       "      <td>-0.035200</td>\n",
       "      <td>0.042746</td>\n",
       "      <td>0.069366</td>\n",
       "      <td>-0.131888</td>\n",
       "      <td>0.010602</td>\n",
       "      <td>0.014428</td>\n",
       "    </tr>\n",
       "    <tr>\n",
       "      <th>Baths</th>\n",
       "      <td>0.004543</td>\n",
       "      <td>0.462072</td>\n",
       "      <td>0.703425</td>\n",
       "      <td>1.000000</td>\n",
       "      <td>0.769079</td>\n",
       "      <td>-0.026429</td>\n",
       "      <td>0.018294</td>\n",
       "      <td>0.001957</td>\n",
       "      <td>-0.068164</td>\n",
       "      <td>-0.024094</td>\n",
       "      <td>0.226399</td>\n",
       "    </tr>\n",
       "    <tr>\n",
       "      <th>Living Space</th>\n",
       "      <td>0.032537</td>\n",
       "      <td>0.520565</td>\n",
       "      <td>0.655098</td>\n",
       "      <td>0.769079</td>\n",
       "      <td>1.000000</td>\n",
       "      <td>-0.029992</td>\n",
       "      <td>0.040304</td>\n",
       "      <td>-0.042956</td>\n",
       "      <td>-0.103706</td>\n",
       "      <td>-0.013129</td>\n",
       "      <td>0.222982</td>\n",
       "    </tr>\n",
       "    <tr>\n",
       "      <th>City</th>\n",
       "      <td>0.084340</td>\n",
       "      <td>0.080209</td>\n",
       "      <td>-0.035200</td>\n",
       "      <td>-0.026429</td>\n",
       "      <td>-0.029992</td>\n",
       "      <td>1.000000</td>\n",
       "      <td>-0.116763</td>\n",
       "      <td>-0.033618</td>\n",
       "      <td>0.081626</td>\n",
       "      <td>0.308200</td>\n",
       "      <td>0.136396</td>\n",
       "    </tr>\n",
       "    <tr>\n",
       "      <th>State</th>\n",
       "      <td>-0.210228</td>\n",
       "      <td>-0.149707</td>\n",
       "      <td>0.042746</td>\n",
       "      <td>0.018294</td>\n",
       "      <td>0.040304</td>\n",
       "      <td>-0.116763</td>\n",
       "      <td>1.000000</td>\n",
       "      <td>0.033955</td>\n",
       "      <td>-0.141414</td>\n",
       "      <td>0.085895</td>\n",
       "      <td>-0.128261</td>\n",
       "    </tr>\n",
       "    <tr>\n",
       "      <th>Zip Code Population</th>\n",
       "      <td>-0.024488</td>\n",
       "      <td>-0.042924</td>\n",
       "      <td>0.069366</td>\n",
       "      <td>0.001957</td>\n",
       "      <td>-0.042956</td>\n",
       "      <td>-0.033618</td>\n",
       "      <td>0.033955</td>\n",
       "      <td>1.000000</td>\n",
       "      <td>0.112308</td>\n",
       "      <td>-0.049330</td>\n",
       "      <td>-0.125287</td>\n",
       "    </tr>\n",
       "    <tr>\n",
       "      <th>Zip Code Density</th>\n",
       "      <td>-0.105494</td>\n",
       "      <td>0.152544</td>\n",
       "      <td>-0.131888</td>\n",
       "      <td>-0.068164</td>\n",
       "      <td>-0.103706</td>\n",
       "      <td>0.081626</td>\n",
       "      <td>-0.141414</td>\n",
       "      <td>0.112308</td>\n",
       "      <td>1.000000</td>\n",
       "      <td>-0.017102</td>\n",
       "      <td>0.175217</td>\n",
       "    </tr>\n",
       "    <tr>\n",
       "      <th>County</th>\n",
       "      <td>-0.038689</td>\n",
       "      <td>0.030848</td>\n",
       "      <td>0.010602</td>\n",
       "      <td>-0.024094</td>\n",
       "      <td>-0.013129</td>\n",
       "      <td>0.308200</td>\n",
       "      <td>0.085895</td>\n",
       "      <td>-0.049330</td>\n",
       "      <td>-0.017102</td>\n",
       "      <td>1.000000</td>\n",
       "      <td>0.025297</td>\n",
       "    </tr>\n",
       "    <tr>\n",
       "      <th>Median Household Income</th>\n",
       "      <td>0.148384</td>\n",
       "      <td>0.416784</td>\n",
       "      <td>0.014428</td>\n",
       "      <td>0.226399</td>\n",
       "      <td>0.222982</td>\n",
       "      <td>0.136396</td>\n",
       "      <td>-0.128261</td>\n",
       "      <td>-0.125287</td>\n",
       "      <td>0.175217</td>\n",
       "      <td>0.025297</td>\n",
       "      <td>1.000000</td>\n",
       "    </tr>\n",
       "  </tbody>\n",
       "</table>\n",
       "</div>"
      ],
      "text/plain": [
       "                         Zip Code     Price      Beds     Baths  Living Space  \\\n",
       "Zip Code                 1.000000  0.110929  0.014740  0.004543      0.032537   \n",
       "Price                    0.110929  1.000000  0.277072  0.462072      0.520565   \n",
       "Beds                     0.014740  0.277072  1.000000  0.703425      0.655098   \n",
       "Baths                    0.004543  0.462072  0.703425  1.000000      0.769079   \n",
       "Living Space             0.032537  0.520565  0.655098  0.769079      1.000000   \n",
       "City                     0.084340  0.080209 -0.035200 -0.026429     -0.029992   \n",
       "State                   -0.210228 -0.149707  0.042746  0.018294      0.040304   \n",
       "Zip Code Population     -0.024488 -0.042924  0.069366  0.001957     -0.042956   \n",
       "Zip Code Density        -0.105494  0.152544 -0.131888 -0.068164     -0.103706   \n",
       "County                  -0.038689  0.030848  0.010602 -0.024094     -0.013129   \n",
       "Median Household Income  0.148384  0.416784  0.014428  0.226399      0.222982   \n",
       "\n",
       "                             City     State  Zip Code Population  \\\n",
       "Zip Code                 0.084340 -0.210228            -0.024488   \n",
       "Price                    0.080209 -0.149707            -0.042924   \n",
       "Beds                    -0.035200  0.042746             0.069366   \n",
       "Baths                   -0.026429  0.018294             0.001957   \n",
       "Living Space            -0.029992  0.040304            -0.042956   \n",
       "City                     1.000000 -0.116763            -0.033618   \n",
       "State                   -0.116763  1.000000             0.033955   \n",
       "Zip Code Population     -0.033618  0.033955             1.000000   \n",
       "Zip Code Density         0.081626 -0.141414             0.112308   \n",
       "County                   0.308200  0.085895            -0.049330   \n",
       "Median Household Income  0.136396 -0.128261            -0.125287   \n",
       "\n",
       "                         Zip Code Density    County  Median Household Income  \n",
       "Zip Code                        -0.105494 -0.038689                 0.148384  \n",
       "Price                            0.152544  0.030848                 0.416784  \n",
       "Beds                            -0.131888  0.010602                 0.014428  \n",
       "Baths                           -0.068164 -0.024094                 0.226399  \n",
       "Living Space                    -0.103706 -0.013129                 0.222982  \n",
       "City                             0.081626  0.308200                 0.136396  \n",
       "State                           -0.141414  0.085895                -0.128261  \n",
       "Zip Code Population              0.112308 -0.049330                -0.125287  \n",
       "Zip Code Density                 1.000000 -0.017102                 0.175217  \n",
       "County                          -0.017102  1.000000                 0.025297  \n",
       "Median Household Income          0.175217  0.025297                 1.000000  "
      ]
     },
     "execution_count": 11,
     "metadata": {},
     "output_type": "execute_result"
    }
   ],
   "source": [
    "correlation =data.corr()\n",
    "correlation"
   ]
  },
  {
   "cell_type": "code",
   "execution_count": 12,
   "id": "7355da82",
   "metadata": {},
   "outputs": [
    {
     "data": {
      "text/plain": [
       "<AxesSubplot:>"
      ]
     },
     "execution_count": 12,
     "metadata": {},
     "output_type": "execute_result"
    },
    {
     "data": {
      "image/png": "[encoded data removed]",
      "text/plain": [
       "<Figure size 432x288 with 2 Axes>"
      ]
     },
     "metadata": {
      "needs_background": "light"
     },
     "output_type": "display_data"
    }
   ],
   "source": [
    "sns.heatmap(correlation,annot=True)"
   ]
  },
  {
   "cell_type": "code",
   "execution_count": 13,
   "id": "90ef678d",
   "metadata": {},
   "outputs": [
    {
     "data": {
      "text/plain": [
       "Text(0, 0.5, 'Price')"
      ]
     },
     "execution_count": 13,
     "metadata": {},
     "output_type": "execute_result"
    },
    {
     "data": {
      "image/png": "[encoded data removed]",
      "text/plain": [
       "<Figure size 432x288 with 1 Axes>"
      ]
     },
     "metadata": {
      "needs_background": "light"
     },
     "output_type": "display_data"
    }
   ],
   "source": [
    "plt.scatter(data['Median Household Income'],data['Price'])\n",
    "plt.xlabel('Median Household Income')\n",
    "plt.ylabel('Price')\n"
   ]
  },
  {
   "cell_type": "code",
   "execution_count": 14,
   "id": "6926ec91",
   "metadata": {},
   "outputs": [
    {
     "data": {
      "text/plain": [
       "Text(0, 0.5, 'Price')"
      ]
     },
     "execution_count": 14,
     "metadata": {},
     "output_type": "execute_result"
    },
    {
     "data": {
      "image/png": "[encoded data removed]",
      "text/plain": [
       "<Figure size 432x288 with 1 Axes>"
      ]
     },
     "metadata": {
      "needs_background": "light"
     },
     "output_type": "display_data"
    }
   ],
   "source": [
    "plt.scatter(data['Zip Code'],data['Price'])\n",
    "plt.xlabel('Zip Code')\n",
    "plt.ylabel('Price')"
   ]
  },
  {
   "cell_type": "code",
   "execution_count": 15,
   "id": "4567288a",
   "metadata": {},
   "outputs": [
    {
     "data": {
      "text/plain": [
       "Text(0, 0.5, 'Price')"
      ]
     },
     "execution_count": 15,
     "metadata": {},
     "output_type": "execute_result"
    },
    {
     "data": {
      "image/png": "[encoded data removed]",
      "text/plain": [
       "<Figure size 432x288 with 1 Axes>"
      ]
     },
     "metadata": {
      "needs_background": "light"
     },
     "output_type": "display_data"
    }
   ],
   "source": [
    "plt.scatter(data['Beds'],data['Price'])\n",
    "plt.xlabel('Beds')\n",
    "plt.ylabel('Price')"
   ]
  },
  {
   "cell_type": "code",
   "execution_count": 16,
   "id": "8a820224",
   "metadata": {},
   "outputs": [
    {
     "data": {
      "text/plain": [
       "Text(0, 0.5, 'Price')"
      ]
     },
     "execution_count": 16,
     "metadata": {},
     "output_type": "execute_result"
    },
    {
     "data": {
      "image/png": "[encoded data removed]",
      "text/plain": [
       "<Figure size 432x288 with 1 Axes>"
      ]
     },
     "metadata": {
      "needs_background": "light"
     },
     "output_type": "display_data"
    }
   ],
   "source": [
    "plt.scatter(data['Baths'],data['Price'])\n",
    "plt.xlabel('Baths')\n",
    "plt.ylabel('Price')"
   ]
  },
  {
   "cell_type": "code",
   "execution_count": 17,
   "id": "7a96414a",
   "metadata": {},
   "outputs": [
    {
     "data": {
      "text/plain": [
       "Text(0, 0.5, 'Price')"
      ]
     },
     "execution_count": 17,
     "metadata": {},
     "output_type": "execute_result"
    },
    {
     "data": {
      "image/png": "[encoded data removed]",
      "text/plain": [
       "<Figure size 432x288 with 1 Axes>"
      ]
     },
     "metadata": {
      "needs_background": "light"
     },
     "output_type": "display_data"
    }
   ],
   "source": [
    "plt.scatter(data['Living Space'],data['Price'])\n",
    "plt.xlabel('Living Space')\n",
    "plt.ylabel('Price')"
   ]
  },
  {
   "cell_type": "code",
   "execution_count": 18,
   "id": "74edaaeb",
   "metadata": {},
   "outputs": [],
   "source": [
    "x=data.drop('Price',axis =1)\n",
    "y=data['Price']"
   ]
  },
  {
   "cell_type": "code",
   "execution_count": 19,
   "id": "c9f91f5e",
   "metadata": {},
   "outputs": [
    {
     "data": {
      "text/html": [
       "<div>\n",
       "<style scoped>\n",
       "    .dataframe tbody tr th:only-of-type {\n",
       "        vertical-align: middle;\n",
       "    }\n",
       "\n",
       "    .dataframe tbody tr th {\n",
       "        vertical-align: top;\n",
       "    }\n",
       "\n",
       "    .dataframe thead th {\n",
       "        text-align: right;\n",
       "    }\n",
       "</style>\n",
       "<table border=\"1\" class=\"dataframe\">\n",
       "  <thead>\n",
       "    <tr style=\"text-align: right;\">\n",
       "      <th></th>\n",
       "      <th>Zip Code</th>\n",
       "      <th>Beds</th>\n",
       "      <th>Baths</th>\n",
       "      <th>Living Space</th>\n",
       "      <th>City</th>\n",
       "      <th>State</th>\n",
       "      <th>Zip Code Population</th>\n",
       "      <th>Zip Code Density</th>\n",
       "      <th>County</th>\n",
       "      <th>Median Household Income</th>\n",
       "    </tr>\n",
       "  </thead>\n",
       "  <tbody>\n",
       "    <tr>\n",
       "      <th>0</th>\n",
       "      <td>10013</td>\n",
       "      <td>2</td>\n",
       "      <td>3</td>\n",
       "      <td>1967</td>\n",
       "      <td>150</td>\n",
       "      <td>18</td>\n",
       "      <td>29563</td>\n",
       "      <td>20967.9</td>\n",
       "      <td>57</td>\n",
       "      <td>370046.0</td>\n",
       "    </tr>\n",
       "    <tr>\n",
       "      <th>1</th>\n",
       "      <td>10013</td>\n",
       "      <td>2</td>\n",
       "      <td>3</td>\n",
       "      <td>1967</td>\n",
       "      <td>150</td>\n",
       "      <td>18</td>\n",
       "      <td>29563</td>\n",
       "      <td>20967.9</td>\n",
       "      <td>57</td>\n",
       "      <td>370046.0</td>\n",
       "    </tr>\n",
       "    <tr>\n",
       "      <th>2</th>\n",
       "      <td>10014</td>\n",
       "      <td>1</td>\n",
       "      <td>1</td>\n",
       "      <td>718</td>\n",
       "      <td>150</td>\n",
       "      <td>18</td>\n",
       "      <td>29815</td>\n",
       "      <td>23740.9</td>\n",
       "      <td>57</td>\n",
       "      <td>249880.0</td>\n",
       "    </tr>\n",
       "    <tr>\n",
       "      <th>3</th>\n",
       "      <td>10014</td>\n",
       "      <td>3</td>\n",
       "      <td>2</td>\n",
       "      <td>1538</td>\n",
       "      <td>150</td>\n",
       "      <td>18</td>\n",
       "      <td>29815</td>\n",
       "      <td>23740.9</td>\n",
       "      <td>57</td>\n",
       "      <td>249880.0</td>\n",
       "    </tr>\n",
       "    <tr>\n",
       "      <th>4</th>\n",
       "      <td>10014</td>\n",
       "      <td>1</td>\n",
       "      <td>1</td>\n",
       "      <td>600</td>\n",
       "      <td>150</td>\n",
       "      <td>18</td>\n",
       "      <td>29815</td>\n",
       "      <td>23740.9</td>\n",
       "      <td>57</td>\n",
       "      <td>249880.0</td>\n",
       "    </tr>\n",
       "    <tr>\n",
       "      <th>...</th>\n",
       "      <td>...</td>\n",
       "      <td>...</td>\n",
       "      <td>...</td>\n",
       "      <td>...</td>\n",
       "      <td>...</td>\n",
       "      <td>...</td>\n",
       "      <td>...</td>\n",
       "      <td>...</td>\n",
       "      <td>...</td>\n",
       "      <td>...</td>\n",
       "    </tr>\n",
       "    <tr>\n",
       "      <th>39976</th>\n",
       "      <td>98199</td>\n",
       "      <td>4</td>\n",
       "      <td>4</td>\n",
       "      <td>3380</td>\n",
       "      <td>204</td>\n",
       "      <td>27</td>\n",
       "      <td>22890</td>\n",
       "      <td>2086.8</td>\n",
       "      <td>46</td>\n",
       "      <td>205611.0</td>\n",
       "    </tr>\n",
       "    <tr>\n",
       "      <th>39977</th>\n",
       "      <td>98199</td>\n",
       "      <td>4</td>\n",
       "      <td>4</td>\n",
       "      <td>2878</td>\n",
       "      <td>204</td>\n",
       "      <td>27</td>\n",
       "      <td>22890</td>\n",
       "      <td>2086.8</td>\n",
       "      <td>46</td>\n",
       "      <td>205611.0</td>\n",
       "    </tr>\n",
       "    <tr>\n",
       "      <th>39978</th>\n",
       "      <td>98199</td>\n",
       "      <td>3</td>\n",
       "      <td>2</td>\n",
       "      <td>1380</td>\n",
       "      <td>204</td>\n",
       "      <td>27</td>\n",
       "      <td>22890</td>\n",
       "      <td>2086.8</td>\n",
       "      <td>46</td>\n",
       "      <td>205611.0</td>\n",
       "    </tr>\n",
       "    <tr>\n",
       "      <th>39979</th>\n",
       "      <td>98199</td>\n",
       "      <td>2</td>\n",
       "      <td>1</td>\n",
       "      <td>856</td>\n",
       "      <td>204</td>\n",
       "      <td>27</td>\n",
       "      <td>22890</td>\n",
       "      <td>2086.8</td>\n",
       "      <td>46</td>\n",
       "      <td>205611.0</td>\n",
       "    </tr>\n",
       "    <tr>\n",
       "      <th>39980</th>\n",
       "      <td>98199</td>\n",
       "      <td>3</td>\n",
       "      <td>3</td>\n",
       "      <td>2840</td>\n",
       "      <td>204</td>\n",
       "      <td>27</td>\n",
       "      <td>22890</td>\n",
       "      <td>2086.8</td>\n",
       "      <td>46</td>\n",
       "      <td>205611.0</td>\n",
       "    </tr>\n",
       "  </tbody>\n",
       "</table>\n",
       "<p>39981 rows × 10 columns</p>\n",
       "</div>"
      ],
      "text/plain": [
       "       Zip Code  Beds  Baths  Living Space  City  State  Zip Code Population  \\\n",
       "0         10013     2      3          1967   150     18                29563   \n",
       "1         10013     2      3          1967   150     18                29563   \n",
       "2         10014     1      1           718   150     18                29815   \n",
       "3         10014     3      2          1538   150     18                29815   \n",
       "4         10014     1      1           600   150     18                29815   \n",
       "...         ...   ...    ...           ...   ...    ...                  ...   \n",
       "39976     98199     4      4          3380   204     27                22890   \n",
       "39977     98199     4      4          2878   204     27                22890   \n",
       "39978     98199     3      2          1380   204     27                22890   \n",
       "39979     98199     2      1           856   204     27                22890   \n",
       "39980     98199     3      3          2840   204     27                22890   \n",
       "\n",
       "       Zip Code Density  County  Median Household Income  \n",
       "0               20967.9      57                 370046.0  \n",
       "1               20967.9      57                 370046.0  \n",
       "2               23740.9      57                 249880.0  \n",
       "3               23740.9      57                 249880.0  \n",
       "4               23740.9      57                 249880.0  \n",
       "...                 ...     ...                      ...  \n",
       "39976            2086.8      46                 205611.0  \n",
       "39977            2086.8      46                 205611.0  \n",
       "39978            2086.8      46                 205611.0  \n",
       "39979            2086.8      46                 205611.0  \n",
       "39980            2086.8      46                 205611.0  \n",
       "\n",
       "[39981 rows x 10 columns]"
      ]
     },
     "execution_count": 19,
     "metadata": {},
     "output_type": "execute_result"
    }
   ],
   "source": [
    "x"
   ]
  },
  {
   "cell_type": "code",
   "execution_count": 20,
   "id": "5e7de8e2",
   "metadata": {},
   "outputs": [
    {
     "data": {
      "text/plain": [
       "0        3999000.0\n",
       "1        3999000.0\n",
       "2        1650000.0\n",
       "3         760000.0\n",
       "4        1100000.0\n",
       "           ...    \n",
       "39976    2495000.0\n",
       "39977    2295000.0\n",
       "39978     950000.0\n",
       "39979     425000.0\n",
       "39980    1150000.0\n",
       "Name: Price, Length: 39981, dtype: float64"
      ]
     },
     "execution_count": 20,
     "metadata": {},
     "output_type": "execute_result"
    }
   ],
   "source": [
    "y"
   ]
  },
  {
   "cell_type": "code",
   "execution_count": 21,
   "id": "8f89ce35",
   "metadata": {},
   "outputs": [],
   "source": [
    "x_train,x_test,y_train,y_test = train_test_split(x,y,test_size=0.2,random_state=12)"
   ]
  },
  {
   "cell_type": "code",
   "execution_count": 22,
   "id": "e1fc1c02",
   "metadata": {},
   "outputs": [
    {
     "data": {
      "text/plain": [
       "((31984, 10), (7997, 10))"
      ]
     },
     "execution_count": 22,
     "metadata": {},
     "output_type": "execute_result"
    }
   ],
   "source": [
    "x_train.shape ,x_test.shape"
   ]
  },
  {
   "cell_type": "code",
   "execution_count": 23,
   "id": "dc7e3405",
   "metadata": {},
   "outputs": [
    {
     "data": {
      "text/plain": [
       "LinearRegression()"
      ]
     },
     "execution_count": 23,
     "metadata": {},
     "output_type": "execute_result"
    }
   ],
   "source": [
    "model = LinearRegression()\n",
    "model.fit(x_train, y_train)"
   ]
  },
  {
   "cell_type": "code",
   "execution_count": 24,
   "id": "9a306873",
   "metadata": {},
   "outputs": [
    {
     "data": {
      "text/plain": [
       "array([ 2.11990377e+00, -7.43854997e+04,  1.42883592e+05,  3.07041815e+02,\n",
       "        2.83940382e+02, -1.01512218e+04,  9.76133139e-02,  4.60003785e+01,\n",
       "        1.68373606e+03,  4.71107203e+00])"
      ]
     },
     "execution_count": 24,
     "metadata": {},
     "output_type": "execute_result"
    }
   ],
   "source": [
    "model.coef_  "
   ]
  },
  {
   "cell_type": "code",
   "execution_count": 25,
   "id": "fa874214",
   "metadata": {},
   "outputs": [
    {
     "data": {
      "text/plain": [
       "-831061.6043122024"
      ]
     },
     "execution_count": 25,
     "metadata": {},
     "output_type": "execute_result"
    }
   ],
   "source": [
    "model.intercept_"
   ]
  },
  {
   "cell_type": "code",
   "execution_count": 26,
   "id": "f0eb76b4",
   "metadata": {},
   "outputs": [
    {
     "data": {
      "text/plain": [
       "0.43222107945043564"
      ]
     },
     "execution_count": 26,
     "metadata": {},
     "output_type": "execute_result"
    }
   ],
   "source": [
    "model.score(x_test,y_test)"
   ]
  },
  {
   "cell_type": "code",
   "execution_count": 27,
   "id": "bd7b9893",
   "metadata": {},
   "outputs": [
    {
     "data": {
      "text/plain": [
       "0.4096121170598438"
      ]
     },
     "execution_count": 27,
     "metadata": {},
     "output_type": "execute_result"
    }
   ],
   "source": [
    "model.score(x_train,y_train)"
   ]
  },
  {
   "cell_type": "code",
   "execution_count": 28,
   "id": "dfef58d9",
   "metadata": {},
   "outputs": [],
   "source": [
    "y_pred = model.predict(x_test)"
   ]
  },
  {
   "cell_type": "code",
   "execution_count": 29,
   "id": "3e31d5e2",
   "metadata": {},
   "outputs": [
    {
     "data": {
      "text/html": [
       "<div>\n",
       "<style scoped>\n",
       "    .dataframe tbody tr th:only-of-type {\n",
       "        vertical-align: middle;\n",
       "    }\n",
       "\n",
       "    .dataframe tbody tr th {\n",
       "        vertical-align: top;\n",
       "    }\n",
       "\n",
       "    .dataframe thead th {\n",
       "        text-align: right;\n",
       "    }\n",
       "</style>\n",
       "<table border=\"1\" class=\"dataframe\">\n",
       "  <thead>\n",
       "    <tr style=\"text-align: right;\">\n",
       "      <th></th>\n",
       "      <th>True values</th>\n",
       "      <th>Predicted values</th>\n",
       "    </tr>\n",
       "  </thead>\n",
       "  <tbody>\n",
       "    <tr>\n",
       "      <th>12512</th>\n",
       "      <td>129900.0</td>\n",
       "      <td>5.603688e+04</td>\n",
       "    </tr>\n",
       "    <tr>\n",
       "      <th>8140</th>\n",
       "      <td>599000.0</td>\n",
       "      <td>6.371537e+03</td>\n",
       "    </tr>\n",
       "    <tr>\n",
       "      <th>16778</th>\n",
       "      <td>299950.0</td>\n",
       "      <td>2.548171e+05</td>\n",
       "    </tr>\n",
       "    <tr>\n",
       "      <th>2445</th>\n",
       "      <td>225000.0</td>\n",
       "      <td>1.535171e+05</td>\n",
       "    </tr>\n",
       "    <tr>\n",
       "      <th>24414</th>\n",
       "      <td>1350000.0</td>\n",
       "      <td>7.632393e+05</td>\n",
       "    </tr>\n",
       "    <tr>\n",
       "      <th>...</th>\n",
       "      <td>...</td>\n",
       "      <td>...</td>\n",
       "    </tr>\n",
       "    <tr>\n",
       "      <th>32548</th>\n",
       "      <td>650000.0</td>\n",
       "      <td>6.803992e+05</td>\n",
       "    </tr>\n",
       "    <tr>\n",
       "      <th>25995</th>\n",
       "      <td>558580.0</td>\n",
       "      <td>6.120006e+05</td>\n",
       "    </tr>\n",
       "    <tr>\n",
       "      <th>29896</th>\n",
       "      <td>2100000.0</td>\n",
       "      <td>1.290593e+06</td>\n",
       "    </tr>\n",
       "    <tr>\n",
       "      <th>7664</th>\n",
       "      <td>2390000.0</td>\n",
       "      <td>7.105746e+05</td>\n",
       "    </tr>\n",
       "    <tr>\n",
       "      <th>26499</th>\n",
       "      <td>395000.0</td>\n",
       "      <td>1.583023e+05</td>\n",
       "    </tr>\n",
       "  </tbody>\n",
       "</table>\n",
       "<p>7997 rows × 2 columns</p>\n",
       "</div>"
      ],
      "text/plain": [
       "       True values  Predicted values\n",
       "12512     129900.0      5.603688e+04\n",
       "8140      599000.0      6.371537e+03\n",
       "16778     299950.0      2.548171e+05\n",
       "2445      225000.0      1.535171e+05\n",
       "24414    1350000.0      7.632393e+05\n",
       "...            ...               ...\n",
       "32548     650000.0      6.803992e+05\n",
       "25995     558580.0      6.120006e+05\n",
       "29896    2100000.0      1.290593e+06\n",
       "7664     2390000.0      7.105746e+05\n",
       "26499     395000.0      1.583023e+05\n",
       "\n",
       "[7997 rows x 2 columns]"
      ]
     },
     "execution_count": 29,
     "metadata": {},
     "output_type": "execute_result"
    }
   ],
   "source": [
    "pd.DataFrame({'True values':y_test, 'Predicted values':y_pred})"
   ]
  },
  {
   "cell_type": "code",
   "execution_count": 30,
   "id": "507b7117",
   "metadata": {},
   "outputs": [
    {
     "data": {
      "text/plain": [
       "298390.09944561427"
      ]
     },
     "execution_count": 30,
     "metadata": {},
     "output_type": "execute_result"
    }
   ],
   "source": [
    "mean_absolute_error(y_test,y_pred)"
   ]
  },
  {
   "cell_type": "code",
   "execution_count": 31,
   "id": "e23f57aa",
   "metadata": {},
   "outputs": [
    {
     "data": {
      "text/plain": [
       "491658621910.14905"
      ]
     },
     "execution_count": 31,
     "metadata": {},
     "output_type": "execute_result"
    }
   ],
   "source": [
    "mean_squared_error(y_test,y_pred)"
   ]
  },
  {
   "cell_type": "code",
   "execution_count": 32,
   "id": "33a5f31a",
   "metadata": {},
   "outputs": [
    {
     "data": {
      "text/plain": [
       "array([-837083.36181351])"
      ]
     },
     "execution_count": 32,
     "metadata": {},
     "output_type": "execute_result"
    }
   ],
   "source": [
    "model.predict([[1,1,.5,.2,.8,.5,.3,.4,1,1]])"
   ]
  },
  {
   "cell_type": "code",
   "execution_count": 33,
   "id": "7fd78fd1",
   "metadata": {},
   "outputs": [],
   "source": [
    "import joblib"
   ]
  },
  {
   "cell_type": "code",
   "execution_count": 34,
   "id": "8f394817",
   "metadata": {},
   "outputs": [
    {
     "data": {
      "text/plain": [
       "['PPModel']"
      ]
     },
     "execution_count": 34,
     "metadata": {},
     "output_type": "execute_result"
    }
   ],
   "source": [
    "joblib.dump(model,'PPModel')"
   ]
  },
  {
   "cell_type": "code",
   "execution_count": 35,
   "id": "97f0241e",
   "metadata": {},
   "outputs": [],
   "source": [
    "model_reloaded=joblib.load(\"PPModel\")"
   ]
  },
  {
   "cell_type": "code",
   "execution_count": 36,
   "id": "3046b8c8",
   "metadata": {},
   "outputs": [
    {
     "data": {
      "text/plain": [
       "array([-837083.36181351])"
      ]
     },
     "execution_count": 36,
     "metadata": {},
     "output_type": "execute_result"
    }
   ],
   "source": [
    "model.predict([[1,1,.5,.2,.8,.5,.3,.4,1,1]])"
   ]
  },
  {
   "cell_type": "markdown",
   "id": "d6bfdf4f",
   "metadata": {},
   "source": [
    "#### #Normalization Standardization"
   ]
  },
  {
   "cell_type": "code",
   "execution_count": 37,
   "id": "1114cfcd",
   "metadata": {},
   "outputs": [],
   "source": [
    "scaler=MinMaxScaler()\n",
    "x_train=scaler.fit_transform(x_train)\n",
    "x_test = scaler.transform(x_test)"
   ]
  },
  {
   "cell_type": "code",
   "execution_count": 38,
   "id": "fcbebf2c",
   "metadata": {},
   "outputs": [],
   "source": [
    "scaler1 =StandardScaler()\n",
    "x_train=scaler1.fit_transform(x_train)\n",
    "x_test =scaler1.transform(x_test)"
   ]
  },
  {
   "cell_type": "code",
   "execution_count": 39,
   "id": "7b4a2d1e",
   "metadata": {},
   "outputs": [
    {
     "data": {
      "text/plain": [
       "LinearRegression()"
      ]
     },
     "execution_count": 39,
     "metadata": {},
     "output_type": "execute_result"
    }
   ],
   "source": [
    "model2 = LinearRegression()\n",
    "model2.fit(x_train , y_train)"
   ]
  },
  {
   "cell_type": "code",
   "execution_count": 40,
   "id": "294ded42",
   "metadata": {},
   "outputs": [
    {
     "data": {
      "text/plain": [
       "array([ 54439.7616287 , -99438.0831394 , 187251.72582408, 377531.83377854,\n",
       "        19900.89990748, -99388.02667458,   1821.34184752, 136533.62940369,\n",
       "        39572.05364995, 223348.59342034])"
      ]
     },
     "execution_count": 40,
     "metadata": {},
     "output_type": "execute_result"
    }
   ],
   "source": [
    "model2.coef_"
   ]
  },
  {
   "cell_type": "code",
   "execution_count": 41,
   "id": "c2ce7379",
   "metadata": {},
   "outputs": [
    {
     "data": {
      "text/plain": [
       "624829.5858544898"
      ]
     },
     "execution_count": 41,
     "metadata": {},
     "output_type": "execute_result"
    }
   ],
   "source": [
    "model2.intercept_"
   ]
  },
  {
   "cell_type": "code",
   "execution_count": 42,
   "id": "d27130c6",
   "metadata": {},
   "outputs": [
    {
     "data": {
      "text/plain": [
       "0.432221079450428"
      ]
     },
     "execution_count": 42,
     "metadata": {},
     "output_type": "execute_result"
    }
   ],
   "source": [
    "model2.score(x_test,y_test)"
   ]
  },
  {
   "cell_type": "code",
   "execution_count": 43,
   "id": "03d50af1",
   "metadata": {},
   "outputs": [
    {
     "data": {
      "text/plain": [
       "0.4096121170598436"
      ]
     },
     "execution_count": 43,
     "metadata": {},
     "output_type": "execute_result"
    }
   ],
   "source": [
    "model2.score(x_train,y_train)"
   ]
  },
  {
   "cell_type": "code",
   "execution_count": 44,
   "id": "d8083858",
   "metadata": {},
   "outputs": [],
   "source": [
    "y_pred = model2.predict(x_test)"
   ]
  },
  {
   "cell_type": "code",
   "execution_count": null,
   "id": "5ea2dc6b",
   "metadata": {},
   "outputs": [],
   "source": []
  },
  {
   "cell_type": "code",
   "execution_count": null,
   "id": "249684b7",
   "metadata": {},
   "outputs": [],
   "source": []
  },
  {
   "cell_type": "code",
   "execution_count": null,
   "id": "f93a30d1",
   "metadata": {},
   "outputs": [],
   "source": []
  },
  {
   "cell_type": "code",
   "execution_count": null,
   "id": "383c2593",
   "metadata": {},
   "outputs": [],
   "source": []
  },
  {
   "cell_type": "code",
   "execution_count": null,
   "id": "55f0e699",
   "metadata": {},
   "outputs": [],
   "source": []
  }
 ],
 "metadata": {
  "kernelspec": {
   "display_name": "Python 3 (ipykernel)",
   "language": "python",
   "name": "python3"
  },
  "language_info": {
   "codemirror_mode": {
    "name": "ipython",
    "version": 3
   },
   "file_extension": ".py",
   "mimetype": "text/x-python",
   "name": "python",
   "nbconvert_exporter": "python",
   "pygments_lexer": "ipython3",
   "version": "3.9.7"
  }
 },
 "nbformat": 4,
 "nbformat_minor": 5
}
